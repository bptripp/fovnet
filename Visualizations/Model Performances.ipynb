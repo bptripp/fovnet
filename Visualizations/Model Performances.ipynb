{
 "cells": [
  {
   "cell_type": "markdown",
   "metadata": {},
   "source": [
    "# Baseline"
   ]
  },
  {
   "cell_type": "code",
   "execution_count": 20,
   "metadata": {},
   "outputs": [],
   "source": [
    "import pandas as pd\n",
    "import matplotlib.pyplot as plt\n",
    "import seaborn as sns\n",
    "sns.set_style(\"darkgrid\")"
   ]
  },
  {
   "cell_type": "code",
   "execution_count": 37,
   "metadata": {},
   "outputs": [],
   "source": [
    "root = \"../models/\"\n",
    "models = [\"baseline\", \"fovnetV1\", \"baseline2\", \"multiRes\", \"fovnetV2\", \"Cartesian\", ]\n",
    "models = [root + model for model in models]\n",
    "names = [\"Most Salient: Uniform\", \"Most Salient: Polar-Retinal\",\n",
    "         \"Top-3 Salient: Uniform\", \"Top-3 Salient: Multi-Resolution\",\n",
    "         \"Top-3 Salient: Polar-Retinal\", \"Top-3 Salient: Cartesian-Retinal\"]\n",
    "train = [model + \"/training.out\" for model in models]\n",
    "test = [model + \"/test.out\" for model in models]"
   ]
  },
  {
   "cell_type": "code",
   "execution_count": 38,
   "metadata": {},
   "outputs": [],
   "source": [
    "def process(train_name, test_name, name):\n",
    "    df_train = pd.read_csv(train_name, header=None, sep=\"\\t\")\n",
    "    df_test = pd.read_csv(test_name, header=None, sep=\"\\t\")\n",
    "\n",
    "    df_test[\"Top 1\"] = df_test[3].apply(lambda x: x.strip().split()[1]).astype(float)\n",
    "    df_test[\"Top 5\"] = df_test[4].apply(lambda x: x.strip().split()[1]).astype(float)\n",
    "\n",
    "    df_train[\"Top 1\"] = df_train[4].apply(lambda x: x.strip().split()[1]).astype(float)\n",
    "    df_train[\"Top 5\"] = df_train[5].apply(lambda x: x.strip().split()[1]).astype(float)\n",
    "\n",
    "    def get_accuracy(df, train=True):\n",
    "        i = 1\n",
    "        top5_acc = []\n",
    "        top1_acc = []\n",
    "        top5_total = 0\n",
    "        top1_total = 0\n",
    "        if train:\n",
    "            flag = \"[   0/5005]\"\n",
    "#             flag = \"[5000/5005]\"\n",
    "        else:\n",
    "            flag = \"[  0/196]\"\n",
    "#             flag = \"[190/196]\"\n",
    "        for index, row in df.iterrows():\n",
    "            if (flag in row[0]):\n",
    "                top1_acc.append(top1_total/i)\n",
    "                top5_acc.append(top5_total/i)\n",
    "#                 top1_acc.append(row[\"Top 1\"])\n",
    "#                 top5_acc.append(row[\"Top 5\"])\n",
    "                top1_total = 0\n",
    "                top5_total = 0\n",
    "                i = 0\n",
    "\n",
    "\n",
    "            top1_total += row[\"Top 1\"]\n",
    "            top5_total += row[\"Top 5\"]\n",
    "            i += 1\n",
    "        return top1_acc[1:], top5_acc[1:]\n",
    "    \n",
    "    top1_train, top5_train = get_accuracy(df_train, train = True)\n",
    "    top1_test, top5_test = get_accuracy(df_test, train = False)\n",
    "    \n",
    "    return {\"top1\":{\"train\":top1_train, \"test\":top1_test}, \"top5\":{\"train\":top5_train, \"test\":top5_test}}"
   ]
  },
  {
   "cell_type": "code",
   "execution_count": null,
   "metadata": {},
   "outputs": [],
   "source": [
    "top5_train = []\n",
    "top5_test = []\n",
    "top1_train = []\n",
    "top1_test = []\n",
    "for i in range(len(models)):\n",
    "    vals = process(train[i], test[i], names[i])\n",
    "    top5_train.append(vals[\"top5\"][\"train\"])\n",
    "    top5_test.append(vals[\"top5\"][\"test\"])\n",
    "    top1_train.append(vals[\"top1\"][\"train\"])\n",
    "    top1_test.append(vals[\"top1\"][\"test\"])"
   ]
  },
  {
   "cell_type": "code",
   "execution_count": null,
   "metadata": {},
   "outputs": [],
   "source": [
    "records = {\"top5\": {}, \"top1\": {}}\n",
    "for i in top5_train:\n",
    "    plt.plot(i)\n",
    "    \n",
    "plt.legend(names)\n",
    "plt.title(\"Top 5 Train Accuracy\")\n",
    "plt.xlabel(\"Epoch\")\n",
    "plt.ylabel(\"Accuracy (%)\")\n",
    "plt.show()\n",
    "\n",
    "for i,v  in enumerate(top5_test):\n",
    "    plt.plot(v)\n",
    "    records[\"top5\"][names[i]] = max(v)\n",
    "    \n",
    "plt.legend(names)\n",
    "plt.title(\"Top 5 Validation Accuracy\")\n",
    "plt.xlabel(\"Epoch\")\n",
    "plt.ylabel(\"Accuracy (%)\")\n",
    "plt.show()\n",
    "\n",
    "for i in top1_train:\n",
    "    plt.plot(i)\n",
    "    \n",
    "plt.legend(names)\n",
    "plt.title(\"Top 1 Train Accuracy\")\n",
    "plt.xlabel(\"Epoch\")\n",
    "plt.ylabel(\"Accuracy (%)\")\n",
    "plt.show()\n",
    "\n",
    "for i,v in enumerate(top1_test):\n",
    "    plt.plot(v)\n",
    "    records[\"top1\"][names[i]] = max(v)\n",
    "\n",
    "    \n",
    "plt.legend(names)\n",
    "plt.title(\"Top 1 Validation Accuracy\")\n",
    "plt.xlabel(\"Epoch\")\n",
    "plt.ylabel(\"Accuracy (%)\");"
   ]
  },
  {
   "cell_type": "code",
   "execution_count": 36,
   "metadata": {},
   "outputs": [
    {
     "data": {
      "text/plain": [
       "{'top5': {'Most Salient: Uniform': 63.02849999999999,\n",
       "  'Top-3 Salient: Uniform': 66.055,\n",
       "  'Top-3 Salient: Cartesian-Retinal': 65.74249999999999,\n",
       "  'Most Salient: Polar-Retinal': 57.501,\n",
       "  'Top-3 Salient: Polar-Retinal': 61.56199999999999,\n",
       "  'Top-3 Salient: Multi-Resolution': 62.694500000000005},\n",
       " 'top1': {'Most Salient: Uniform': 37.656,\n",
       "  'Top-3 Salient: Uniform': 41.425500000000014,\n",
       "  'Top-3 Salient: Cartesian-Retinal': 41.855000000000004,\n",
       "  'Most Salient: Polar-Retinal': 33.847,\n",
       "  'Top-3 Salient: Polar-Retinal': 38.26050000000001,\n",
       "  'Top-3 Salient: Multi-Resolution': 38.886}}"
      ]
     },
     "execution_count": 36,
     "metadata": {},
     "output_type": "execute_result"
    }
   ],
   "source": [
    "records"
   ]
  },
  {
   "cell_type": "code",
   "execution_count": null,
   "metadata": {},
   "outputs": [],
   "source": []
  }
 ],
 "metadata": {
  "kernelspec": {
   "display_name": "Python 3",
   "language": "python",
   "name": "python3"
  },
  "language_info": {
   "codemirror_mode": {
    "name": "ipython",
    "version": 3
   },
   "file_extension": ".py",
   "mimetype": "text/x-python",
   "name": "python",
   "nbconvert_exporter": "python",
   "pygments_lexer": "ipython3",
   "version": "3.7.3"
  }
 },
 "nbformat": 4,
 "nbformat_minor": 2
}
